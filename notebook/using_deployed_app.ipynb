{
 "cells": [
  {
   "cell_type": "code",
   "execution_count": 5,
   "metadata": {},
   "outputs": [],
   "source": [
    "from langgraph_sdk import get_client\n",
    "\n",
    "# Connect via SDK\n",
    "\n",
    "url_for_cli_deployment = \"http://127.0.0.1:2024\"\n",
    "\n",
    "#docker url\n",
    "# url_for_cli_deployment = \"http://localhost:8123\"\n",
    "\n",
    "\n",
    "client = get_client(url=url_for_cli_deployment)"
   ]
  },
  {
   "cell_type": "code",
   "execution_count": 6,
   "metadata": {},
   "outputs": [
    {
     "data": {
      "text/plain": [
       "[{'assistant_id': '69a8afab-a8bd-5243-b8a3-8e49d68cc617',\n",
       "  'graph_id': 'grant_genie',\n",
       "  'config': {},\n",
       "  'metadata': {'created_by': 'system'},\n",
       "  'name': 'grant_genie',\n",
       "  'created_at': '2025-02-26T09:39:00.052461+00:00',\n",
       "  'updated_at': '2025-02-26T09:39:00.052461+00:00',\n",
       "  'version': 1}]"
      ]
     },
     "execution_count": 6,
     "metadata": {},
     "output_type": "execute_result"
    }
   ],
   "source": [
    "\n",
    "#Search for assistant\n",
    "assistants = await client.assistants.search()\n",
    "assistants"
   ]
  },
  {
   "cell_type": "code",
   "execution_count": 7,
   "metadata": {},
   "outputs": [],
   "source": [
    "# thread_state = await client.threads.get_state(\"0ceaf5b4-d3f2-4796-b441-e4d1d42edf13\")\n",
    "# print(thread_state['values'])"
   ]
  },
  {
   "cell_type": "code",
   "execution_count": 8,
   "metadata": {},
   "outputs": [
    {
     "name": "stdout",
     "output_type": "stream",
     "text": [
      "eae99694-479d-46a6-964f-9a902ca71b00\n",
      "grant_genie\n"
     ]
    }
   ],
   "source": [
    "#Get assistant name\n",
    "graph_name = assistants[0]['graph_id']\n",
    "# thread_id = \"fbd21a28-9124-4e86-bfaa-6f1d31f82c2b\"\n",
    "thread = await client.threads.create()\n",
    "thread_id = thread['thread_id']\n",
    "print(thread_id)\n",
    "print(graph_name)\n"
   ]
  },
  {
   "cell_type": "code",
   "execution_count": 9,
   "metadata": {},
   "outputs": [
    {
     "name": "stdout",
     "output_type": "stream",
     "text": [
      "[]\n"
     ]
    }
   ],
   "source": [
    "# Check any existing runs on a thread\n",
    "runs = await client.runs.list(thread_id)\n",
    "print(runs)"
   ]
  },
  {
   "cell_type": "code",
   "execution_count": null,
   "metadata": {},
   "outputs": [
    {
     "name": "stdout",
     "output_type": "stream",
     "text": [
      "StreamPart(event='metadata', data={'run_id': '1eff425f-4f6d-6d6c-839f-8be09e5472a7', 'attempt': 1})\n",
      "StreamPart(event='updates', data={'grant_genie': {'messages': [{'content': '', 'additional_kwargs': {'tool_calls': [{'id': 'call_f7P3pLSTTRRN94izfuciqeYf', 'function': {'arguments': '{\"urls\":[\"https://butterfieldfoundation.org/grant-gateway/\"]}', 'name': 'scrape_webpages'}, 'type': 'function'}], 'refusal': None}, 'response_metadata': {'token_usage': {'completion_tokens': 29, 'prompt_tokens': 1153, 'total_tokens': 1182, 'completion_tokens_details': {'accepted_prediction_tokens': 0, 'audio_tokens': 0, 'reasoning_tokens': 0, 'rejected_prediction_tokens': 0}, 'prompt_tokens_details': {'audio_tokens': 0, 'cached_tokens': 0}}, 'model_name': 'gpt-4o-mini-2024-07-18', 'system_fingerprint': 'fp_06737a9306', 'finish_reason': 'tool_calls', 'logprobs': None}, 'type': 'ai', 'name': None, 'id': 'run-bc2940c8-3962-41f8-9ede-75452f711c2b-0', 'example': False, 'tool_calls': [{'name': 'scrape_webpages', 'args': {'urls': ['https://butterfieldfoundation.org/grant-gateway/']}, 'id': 'call_f7P3pLSTTRRN94izfuciqeYf', 'type': 'tool_call'}], 'invalid_tool_calls': [], 'usage_metadata': {'input_tokens': 1153, 'output_tokens': 29, 'total_tokens': 1182, 'input_token_details': {'audio': 0, 'cache_read': 0}, 'output_token_details': {'audio': 0, 'reasoning': 0}}}]}})\n",
      "StreamPart(event='updates', data={'tools': {'messages': [{'content': '<Document name=\"Grant Gateway | Butterfield Foundation\">\\n\\n\\n\\n\\n\\n\\n\\nGrant Gateway | Butterfield Foundation\\n\\n\\n\\n\\n\\n\\n\\n\\n\\n\\n\\n\\n\\n\\n\\n\\n\\n\\n\\n\\n\\n\\n\\n\\n\\n\\n\\n\\n\\n\\n\\n\\n\\n\\n\\n\\n\\n\\n\\n\\n\\n\\n\\n\\n\\n\\n\\nHome\\nAbout\\n\\nMission and Values\\nHistory\\nButterfield Team\\n\\n\\nGrant Gateway\\n\\nGrant Opportunities\\nGrant Process\\nFunding Focus Areas\\nGrant Eligibility\\nGrant Cycle\\nGrant FAQs\\nInterships\\n\\n\\nGrantee Login\\nContact\\n \\n\\n\\nSelect Page\\n\\n\\n  \\n \\n \\n\\n\\n\\n\\n\\n\\n\\n\\n\\n\\n\\n\\n\\n\\n\\n\\nButterfield Grant Gateway\\nDiscover opportunities to make a difference through our diverse grant programs. From advancing healthcare access to supporting spiritual care initiatives, our grants empower Christian organizations to serve communities locally and globally. Explore our funding focus areas and learn how you can join us in transforming lives through compassionate care and impactful projects.\\n\\n\\n\\n\\n\\n\\n\\n\\n\\n\\nGrant Opportunities. Let’s Get Started.\\n\\nWelcome grantseekers! Thank you for considering the Butterfield Foundation as a potential funding partner for your work.\\nWe have three grantmaking cycles per year. Deadlines for each grant cycle can be found here. Projects aligning with one of our four Funding Focus Areas can be considered in any grant cycle.\\nWhile the Butterfield Foundation provides funding throughout the world, Oklahoma is a funding priority for all our Funding Focus Areas, accounting for at least 50% of our charitable giving.\\nPrior to applying for a grant, we encourage you to visit our ‘About’ page and ‘Eligibility’ section below, which detail the Foundation’s mission, history, and grantmaking priorities as part of our commitment to whole person care.\\nThe Foundation’s grant process begins with a Letter of Inquiry. From here, you will be redirected to the Foundation’s grant application platform to start the application process. If you do not have an account, you will be prompted to create one at that time.\\n\\n\\n\\n\\n\\nStarting The Grant Process\\n\\n\\n\\n\\n\\n\\n\\n\\n\\n\\n\\nSTEP 1\\nCheck Eligibility \\n\\nOn this page, visit the eligibility section and verify your organizations eligibility for Butterfield Foundation grant.\\n\\nCheck Eligibility\\n\\n\\n\\n\\n\\n\\n\\n\\n\\n\\n\\nSTEP 2\\nSetup a Grant Account\\n\\nThe grant application process is managed entirely through your own account on the Butterfield Foundation Grant Portal.\\n\\nSetup Account\\n\\n\\n\\n\\n\\n\\n\\n\\n\\n\\nSTEP 3\\nSubmit Letter of Inquiry\\n\\nUsing your newly established, Butterfield Foundation, portal account, submit a new Letter of Inquiry to get the process started.\\n\\nSign In\\n\\n\\n\\n\\n\\n\\n\\n\\n\\nFunding Focus Areas\\nButterfield Foundation has four (4) Funding Focus Areas that define our granting priorities. The Foundation does not fund operational expenses (including salaries), ongoing program expenses, endowments, and scholarships. Please review our eligibility requirements before applying for funding.\\n\\xa0\\n\\n\\n\\n\\n\\n\\n\\nCharitable Whole Person Healthcare\\nBMF seeks to meet the whole person healthcare needs of underserved individuals by partnering with nonprofit Christian organizations serving their community with priority given to Oklahoma. Projects funded should improve the quality of care offered to each patient, address health issues impacting a large portion of the population, and advance the efforts of charitable care by educating providers. Examples of funding include: construction, renovations, medical equipment, lab equipment, dental equipment, vision equipment, strategic planning, technology upgrades, and training for staff.\\n\\n\\n\\n\\n\\nChoose Life Advancement\\nBMF seeks to partner with nonprofit Christian organizations serving individuals with unintended pregnancies, those in need of post-abortive healing, and those healing from or vulnerable to sex-trafficking. Projects funded should expand outreach, provide training opportunities that enhance client care, or improve service delivery. Examples of funding include: ultrasound machines, building improvements, equipment, technology upgrades, website updates, pregnancy/parenting curriculum, center signage, and training for staff.\\n\\n\\n\\n\\n\\n\\n\\nInternational Whole Person Healthcare\\nBMF seeks to collaborate with nonprofit Christian organizations serving an international population meeting whole person healthcare needs. Projects funded should increase the number of individuals served, improve health conditions, or create programs for indigenous people to mitigate community health needs. Examples of funding include: construction, renovations, imaging equipment, lab equipment, dental equipment, vision equipment, surgical equipment, strategic planning, water/sanitation, community health training, solar power, technology upgrades, and training for staff.\\n\\n\\n\\n\\n\\nSpiritual Care Advancement\\nBMF seeks to collaborate with nonprofit Christian healthcare organizations to advance spiritual care as a core component of whole person care. Projects funded should create training opportunities to advance understanding and knowledge of spiritual care and improve the physical, mental, and social well-being of individuals. Examples of funding include: curriculum development, spiritual care/chaplaincy trainings, spiritual care internships, and trauma-informed care.\\n\\n\\n\\n\\n\\n\\n\\nGrant Eligibility\\nIt is important to review eligibility requirements and funding priorities before starting your application.\\nThe following criteria is standard across our funding program:\\n\\nWithin the United States, funding is limited to organizations recognized by the IRS as a U.S. 501(c)(3) public charity.\\nA non-U.S. grantee must work with a U.S. 501(c)(3) to act as a fiscal agent, an organization that agrees to accept and be responsible for grant funds on your behalf.\\nAll organizations must have a Christian purpose stated in their founding documents i.e. bylaws, mission statement, and/or vision statement.\\nButterfield Foundation does not award grants to individuals, ongoing program expenses, operating expenses (includes salaries), endowments, or sponsorships.\\nGrants can be requested through our online application process only.\\n\\nIn selecting projects for consideration, the Foundation evaluates alignment with our funding priorities and our values and considers whether we can make a meaningful difference with our impact and our investments.\\nOrganizations that have previously received funding from the Foundation may submit a new Letter of Inquiry after 12 months has passed since the approval of the previous funding, expenditure of all awarded funds, and reporting requirements have been completed.\\nButterfield Foundation will consider funding multi-year projects on a case-by-case basis but, in general, this is not the Foundation’s primary form of funding.\\n\\n\\n\\n\\n\\n\\n\\nGrant Cycle Deadlines\\n\\n\\n\\n\\n\\n\\nDecember 1, 2024\\n\\nDecember 1, 2024\\n\\n2025 Grant Cycle 1\\n\\nLetters of Inquiry OPEN\\n\\n\\n\\n\\n\\n\\nJanuary 31, 2025\\n\\nJanuary 31, 2025\\n\\n2025 Grant Cycle 1\\n\\nLetters of Inquiry DUE\\n\\n\\n\\n\\n\\n\\nMarch 5, 2025\\n\\nMarch 5, 2025\\n\\n2025 Grant Cycle 1\\n\\nGrant Applications DUE\\nFunding Decisions Made in Early May\\n\\n\\n\\n\\n\\n\\nMarch 31, 2025\\n\\nMarch 31, 2025\\n\\n2025 Grant Cycle 2\\n\\nLetters of Inquiry OPEN\\n\\n\\n\\n\\n\\n\\nApril 30, 2025\\n\\nApril 30, 2025\\n\\n2025 Grant Cycle 2\\n\\nLetters of Inquiry DUE\\n\\n\\n\\n\\n\\n\\nJune 1, 2025\\n\\nJune 1, 2025\\n\\n2025 Grant Cycle 2\\n\\nGrant Applications DUE\\nFunding Decisions Made in July\\n\\n\\n\\n\\n\\n\\nJuly 15, 2025\\n\\nJuly 15, 2025\\n\\n2025 Grant Cycle 3\\n\\nLetters of Inquiry OPEN\\n\\n\\n\\n\\n\\n\\nAugust 15, 2025\\n\\nAugust 15, 2025\\n\\n2025 Grant Cycle 3\\n\\nLetters of Inquiry DUE\\n\\n\\n\\n\\n\\n\\nSeptember 15, 2025\\n\\nSeptember 15, 2025\\n\\n2025 Grant Cycle 3\\n\\nGrant Applications DUE\\nFunding Decisions Made in November\\n\\n\\n\\n\\n\\n\\n\\n\\n\\n\\n\\n\\n\\n\\n\\nFrequently Asked Questions\\n\\n\\n\\n\\n\\n\\nK\\nL\\nWhat is the mission of the Foundation?\\n\\n\\n\\n\\n\\nWe manifest the redeeming love of Christ by focusing on the physical, mental, social, and spiritual well-being of people, consistent with the tenets of the Free Methodist Church USA.\\n\\n\\n\\n\\n\\nK\\nL\\nWhen was Butterfield Foundation formed?\\n\\n\\n\\n\\n\\nDeaconess Hospital was founded on North Portland Avenue in Oklahoma City in the early part of the last century.  It emerged as a part of The Home of Redeeming Love, but quickly became one of Oklahoma City’s premier family practice hospitals.  Deaconess, as a nonprofit, faith-based hospital, was sold in 2005 to a healthcare corporation.  At the time of the sale, the hospital board voted to establish Butterfield Foundation with the proceeds of the sale.\\n\\n\\n\\n\\n\\nK\\nL\\nWhere is the Foundation located?\\n\\n\\n\\n\\n\\n8308 N May Ave, Suite 200Oklahoma City, OK 73120Ph. 405-604-4702Fax 405-604-4709Email: Info@butterfieldfoundation.org OR grants@butterfieldfoundation.org\\n\\n\\n\\n\\n\\nK\\nL\\nWhen is the office open?\\n\\n\\n\\n\\n\\nMonday – Thursday 9:00 AM – 5:00 PM and Friday by appointment\\n\\n\\n\\n\\n\\nK\\nL\\n What type of grants do you fund?\\n\\n\\n\\n\\n\\nOur board has identified the following Funding Focus Areas:\\n\\nChristian Whole Person Healthcare – BMF seeks to meet the whole person healthcare needs of underserved individuals by partnering with nonprofit Christian organizations serving their community. Projects funded should improve the quality of care offered to each patient, create initiatives that address health issues impacting a large portion of the population, and advance the efforts of charitable care by educating providers.\\nChoose Life Advancement – BMF seeks to partner with nonprofit Christian organizations serving individuals with unintended pregnancies and those in need of post-abortive healing. Projects funded should create initiatives that expand outreach, provide training opportunities that enhance client care, or improve service delivery via building improvements, equipment, or supplies.\\nInternational Whole Person Healthcare – BMF seeks to collaborate with nonprofit Christian organizations serving an international population meeting whole person healthcare needs. Projects funded should increase the number of individuals served, improve health conditions, or create programs for indigenous people to mitigate community health needs.\\nSpiritual Care Advancement – BMF seeks to collaborate with nonprofit Christian healthcare organizations to advance spiritual care as a core component of whole person healthcare. Projects funded should create training opportunities to advance understanding and knowledge of spiritual care and improve the physical, mental, and social well-being of individuals.\\n\\n\\n\\n\\n\\n\\nK\\nL\\nWhat are your grant cycle deadlines?\\n\\n\\n\\n\\n\\nThere are three grant cycles each year. Information about our grants cycles and deadlines is located under the Grant Gateway page of this site. To receive updates on when we are accepting grant applications, like us on Facebook at Butterfield Memorial Foundation.\\n\\n\\n\\n\\n\\nK\\nL\\n What type of projects are not funded by the Butterfield Foundation?\\n\\n\\n\\n\\n\\n\\nGrants to individuals\\nOrganizations unable to give evidence of an active Christian presence\\nInternational organizations without a domestic U.S. based 501(c)(3)\\nOngoing program expenses\\nOperating expenses\\nEndowments\\nSponsorships\\n\\n\\n\\n\\n\\n\\nK\\nL\\nIf my organization is interested in applying for a grant, what should we do?\\n\\n\\n\\n\\n\\nChristian nonprofit organizations with a project that fits one or more of the Foundation’s Funding Focus Areas must first fill out a Letter of Inquiry. More information is located on the Grant Gateway page of this site.\\n\\n\\n\\n\\n\\nK\\nL\\nWho decides which projects are funded by the Butterfield Foundation?\\n\\n\\n\\n\\n\\nRequests for funding are approved by the Foundation’s Board of Directors.\\n\\n\\n\\n\\n\\n\\n\\n\\n\\n\\n\\n\\n\\n\\n2023 Impact Statement\\n\\nDownload\\n\\n\\n\\n \\n\\n\\n\\n\\n\\n\\n\\n\\n\\nFollow Us\\n\\nFollowFollow\\n\\n\\n\\n\\n\\nOur Mission\\n\\nManifest the redeeming love of Christ through whole person care\\n\\xa0\\n\\nOur Vision\\n\\nPractice Spirit-led stewardship that transforms lives\\n\\xa0\\n\\n\\n\\nQuick Links\\n\\nAbout Butterfield\\nGrant Gateway\\nFunding Focus Areas\\nGrant Cycles\\n2023 Free Methodist Book of Discipline\\n\\n\\n\\nContact\\n\\n\\n\\ue010\\n\\ninfo@butterfieldfoundation.org\\n\\n\\n\\n\\n\\ue00b\\n\\n405-604-4702\\n\\n\\n\\n\\n\\ue01d\\n\\n8308 N. May, Ste 200Oklahoma City, OK 73120\\n\\n\\n\\n\\n\\n\\n\\nPrivacy Policy | Terms And Conditions  | Attributions\\xa0\\n\\n\\n\\n© 2025 Butterfield Foundation & Liquid Networks, LLC | All Right Reserved\\n\\n\\n\\n \\n\\n\\n\\n\\n\\n\\n\\n\\n\\n\\n\\n\\n\\n\\n\\n\\n\\n\\n\\n\\n\\n\\n\\n</Document>', 'additional_kwargs': {}, 'response_metadata': {}, 'type': 'tool', 'name': 'scrape_webpages', 'id': None, 'tool_call_id': 'call_f7P3pLSTTRRN94izfuciqeYf', 'artifact': None, 'status': 'success'}]}})\n",
      "StreamPart(event='updates', data={'grant_genie': {'messages': [{'content': \"The **Butterfield Foundation** offers grant opportunities focused on advancing healthcare access, particularly through Christian organizations. Here are the key points regarding their funding opportunities:\\n\\n### **Funding Focus Areas**\\n1. **Charitable Whole Person Healthcare**\\n   - Aims to meet healthcare needs of underserved individuals.\\n   - Projects should improve care quality and address health issues.\\n   - Examples: construction, medical equipment, training for staff.\\n\\n2. **Choose Life Advancement**\\n   - Supports individuals with unintended pregnancies and post-abortive healing.\\n   - Projects should expand outreach and improve service delivery.\\n   - Examples: ultrasound machines, training for staff.\\n\\n3. **International Whole Person Healthcare**\\n   - Collaborates with organizations serving international populations.\\n   - Projects should increase individuals served and improve health conditions.\\n   - Examples: construction, medical equipment, community health training.\\n\\n4. **Spiritual Care Advancement**\\n   - Focuses on advancing spiritual care in healthcare.\\n   - Projects should create training opportunities for spiritual care.\\n   - Examples: curriculum development, spiritual care trainings.\\n\\n### **Eligibility Criteria**\\n- Must be a 501(c)(3) public charity or work with one as a fiscal agent.\\n- Must have a Christian purpose stated in founding documents.\\n- Does not fund operational expenses, ongoing program expenses, or scholarships.\\n\\n### **Grant Cycle Deadlines**\\n- **Cycle 1**: Letters of Inquiry due January 31, 2025; Applications due March 5, 2025.\\n- **Cycle 2**: Letters of Inquiry due April 30, 2025; Applications due June 1, 2025.\\n- **Cycle 3**: Letters of Inquiry due August 15, 2025; Applications due September 15, 2025.\\n\\nNow, let's determine if **Earth Mission** is a good fit for these funding opportunities. \\n\\n### **Fit Assessment**\\n- **Mission Alignment**: Earth Mission's focus on improving healthcare access in remote areas aligns with the **International Whole Person Healthcare** focus area.\\n- **Project Types**: The training programs and healthcare facilities operated by Earth Mission could qualify for funding under the relevant categories.\\n\\nDo you have a specific project idea in mind for the grant application, or would you like assistance in developing one?\", 'additional_kwargs': {'refusal': None}, 'response_metadata': {'token_usage': {'completion_tokens': 457, 'prompt_tokens': 3492, 'total_tokens': 3949, 'completion_tokens_details': {'accepted_prediction_tokens': 0, 'audio_tokens': 0, 'reasoning_tokens': 0, 'rejected_prediction_tokens': 0}, 'prompt_tokens_details': {'audio_tokens': 0, 'cached_tokens': 0}}, 'model_name': 'gpt-4o-mini-2024-07-18', 'system_fingerprint': 'fp_06737a9306', 'finish_reason': 'stop', 'logprobs': None}, 'type': 'ai', 'name': None, 'id': 'run-162fecda-5224-4520-8036-8b7e23698a75-0', 'example': False, 'tool_calls': [], 'invalid_tool_calls': [], 'usage_metadata': {'input_tokens': 3492, 'output_tokens': 457, 'total_tokens': 3949, 'input_token_details': {'audio': 0, 'cache_read': 0}, 'output_token_details': {'audio': 0, 'reasoning': 0}}}]}})\n"
     ]
    }
   ],
   "source": [
    "from langchain_core.messages import HumanMessage\n",
    "\n",
    "user_input = HumanMessage(content=\"Help me write a grant proposal for earth mission here is the link to th funding opportunity https://butterfieldfoundation.org/grant-gateway/\")\n",
    "\n",
    "async for event in client.runs.stream(\n",
    "            thread_id, \n",
    "            graph_name, \n",
    "            input={\"messages\": [user_input]}, \n",
    "            stream_mode=\"updates\",\n",
    "            stream_subgraphs=True,\n",
    "            ):\n",
    "    \n",
    "    \n",
    "    print(event)"
   ]
  },
  {
   "cell_type": "code",
   "execution_count": 11,
   "metadata": {},
   "outputs": [
    {
     "name": "stdout",
     "output_type": "stream",
     "text": [
      "StreamPart(event='metadata', data={'run_id': '1eff425f-c5f0-6e1c-abee-5987ea773807', 'attempt': 1})\n"
     ]
    }
   ],
   "source": [
    "async for event in client.runs.stream(\n",
    "            thread_id, \n",
    "            graph_name, \n",
    "            input={\"messages\": [user_input]}, \n",
    "            stream_mode=\"updates\",\n",
    "            stream_subgraphs=True,\n",
    "            command={\"resume\": True},\n",
    "            ):\n",
    "    \n",
    "    \n",
    "    print(event)"
   ]
  },
  {
   "cell_type": "code",
   "execution_count": 12,
   "metadata": {},
   "outputs": [],
   "source": [
    "import json\n",
    "thread_state = await client.threads.get_state(thread_id)\n"
   ]
  },
  {
   "cell_type": "code",
   "execution_count": 13,
   "metadata": {},
   "outputs": [
    {
     "ename": "KeyError",
     "evalue": "'sections'",
     "output_type": "error",
     "traceback": [
      "\u001b[0;31m---------------------------------------------------------------------------\u001b[0m",
      "\u001b[0;31mKeyError\u001b[0m                                  Traceback (most recent call last)",
      "Cell \u001b[0;32mIn[13], line 1\u001b[0m\n\u001b[0;32m----> 1\u001b[0m \u001b[38;5;28;01mfor\u001b[39;00m section \u001b[38;5;129;01min\u001b[39;00m \u001b[43mthread_state\u001b[49m\u001b[43m[\u001b[49m\u001b[38;5;124;43m'\u001b[39;49m\u001b[38;5;124;43mvalues\u001b[39;49m\u001b[38;5;124;43m'\u001b[39;49m\u001b[43m]\u001b[49m\u001b[43m[\u001b[49m\u001b[38;5;124;43m'\u001b[39;49m\u001b[38;5;124;43msections\u001b[39;49m\u001b[38;5;124;43m'\u001b[39;49m\u001b[43m]\u001b[49m:\n\u001b[1;32m      2\u001b[0m     \u001b[38;5;28mprint\u001b[39m(section[\u001b[38;5;124m'\u001b[39m\u001b[38;5;124mname\u001b[39m\u001b[38;5;124m'\u001b[39m])\n\u001b[1;32m      3\u001b[0m     \u001b[38;5;28mprint\u001b[39m(section[\u001b[38;5;124m'\u001b[39m\u001b[38;5;124mdescription\u001b[39m\u001b[38;5;124m'\u001b[39m])\n",
      "\u001b[0;31mKeyError\u001b[0m: 'sections'"
     ]
    }
   ],
   "source": [
    "for section in thread_state['values']['sections']:\n",
    "    print(section['name'])\n",
    "    print(section['description'])\n",
    "    print(section['content'])\n",
    "    print(section['research'])\n",
    "    print(\"=\"*100)"
   ]
  },
  {
   "cell_type": "code",
   "execution_count": 84,
   "metadata": {},
   "outputs": [
    {
     "ename": "KeyError",
     "evalue": "'final_report'",
     "output_type": "error",
     "traceback": [
      "\u001b[0;31m---------------------------------------------------------------------------\u001b[0m",
      "\u001b[0;31mKeyError\u001b[0m                                  Traceback (most recent call last)",
      "Cell \u001b[0;32mIn[84], line 3\u001b[0m\n\u001b[1;32m      1\u001b[0m \u001b[38;5;28;01mfrom\u001b[39;00m\u001b[38;5;250m \u001b[39m\u001b[38;5;21;01mIPython\u001b[39;00m\u001b[38;5;21;01m.\u001b[39;00m\u001b[38;5;21;01mdisplay\u001b[39;00m\u001b[38;5;250m \u001b[39m\u001b[38;5;28;01mimport\u001b[39;00m display, Markdown\n\u001b[0;32m----> 3\u001b[0m display(Markdown(\u001b[43mthread_state\u001b[49m\u001b[43m[\u001b[49m\u001b[38;5;124;43m'\u001b[39;49m\u001b[38;5;124;43mvalues\u001b[39;49m\u001b[38;5;124;43m'\u001b[39;49m\u001b[43m]\u001b[49m\u001b[43m[\u001b[49m\u001b[38;5;124;43m'\u001b[39;49m\u001b[38;5;124;43mfinal_report\u001b[39;49m\u001b[38;5;124;43m'\u001b[39;49m\u001b[43m]\u001b[49m))\n",
      "\u001b[0;31mKeyError\u001b[0m: 'final_report'"
     ]
    }
   ],
   "source": [
    "\n",
    "\n",
    "from IPython.display import display, Markdown\n",
    "\n",
    "display(Markdown(thread_state['values']['final_report']))\n"
   ]
  }
 ],
 "metadata": {
  "kernelspec": {
   "display_name": ".venv",
   "language": "python",
   "name": "python3"
  },
  "language_info": {
   "codemirror_mode": {
    "name": "ipython",
    "version": 3
   },
   "file_extension": ".py",
   "mimetype": "text/x-python",
   "name": "python",
   "nbconvert_exporter": "python",
   "pygments_lexer": "ipython3",
   "version": "3.12.10"
  }
 },
 "nbformat": 4,
 "nbformat_minor": 2
}
